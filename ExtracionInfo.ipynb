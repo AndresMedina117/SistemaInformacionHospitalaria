{
 "cells": [
  {
   "cell_type": "code",
   "execution_count": 1,
   "metadata": {},
   "outputs": [],
   "source": [
    "import csv"
   ]
  },
  {
   "cell_type": "markdown",
   "metadata": {},
   "source": [
    "PRIMERO NOS CENTRAMOS EN EXTRAER LA INFORMACION DE LOS ARCHIVOS\n",
    "\n",
    "Se debe escoger desde la interfaz la carpeta donde estan los archivos con la informacion de los pacientes, no importa si hay diferentes tipos de archivos:"
   ]
  },
  {
   "cell_type": "code",
   "execution_count": 15,
   "metadata": {},
   "outputs": [
    {
     "name": "stdout",
     "output_type": "stream",
     "text": [
      "['dataEncode.csv', 'paciente1.json', 'paciente2.csv', 'paciente3.txt']\n"
     ]
    }
   ],
   "source": [
    "import os\n",
    "\n",
    "# Ruta de la carpeta\n",
    "ruta_carpeta = './pacientes'\n",
    "\n",
    "# Obtener la lista de archivos en la carpeta\n",
    "lista_pacientes = os.listdir(ruta_carpeta)\n",
    "print(lista_pacientes)"
   ]
  },
  {
   "cell_type": "markdown",
   "metadata": {},
   "source": [
    "AHORA, EXTRAEMOS LA INFORMACION DE LOS PACIENTES DE CADA UNO DE LOS DIFERENTES FORMATOS\n",
    "Para ello, primero definimos funcion especificas para extraer la informacion de cada formato:"
   ]
  },
  {
   "cell_type": "code",
   "execution_count": 16,
   "metadata": {},
   "outputs": [
    {
     "name": "stdout",
     "output_type": "stream",
     "text": [
      "El delimitador utilizado en el archivo es: ','\n"
     ]
    }
   ],
   "source": [
    "#INICIEMOS CON EL FORMATO CSV\n",
    "import csv\n",
    "import json\n",
    "\n",
    "def detectar_delimitador(archivo):\n",
    "    with open(archivo, 'r', encoding='utf-8') as f:\n",
    "        dialecto = csv.Sniffer().sniff(f.read(1024))  # Analizar solo una porción del archivo\n",
    "        return dialecto.delimiter\n",
    "\n",
    "def extraer_info_csv(nombre_archivo):\n",
    "    info_pacientes_csv=[]\n",
    "    ruta='pacientes/'+nombre_archivo\n",
    "    delimitador=detectar_delimitador(ruta)\n",
    "    file = open( ruta, encoding='utf-8')\n",
    "    content = csv.reader(file , delimiter=delimitador)\n",
    "    for row in content:\n",
    "        info_pacientes_csv.append()\n",
    "    file.close()\n",
    "    return info_pacientes_csv\n",
    "\n",
    "#AHORA PARA LA INFO DE LOS JASON\n",
    "def extraer_info_json(nombre_archivo):\n",
    "    ruta='pacientes/'+nombre_archivo\n",
    "    file = open( ruta, encoding='ISO-8859-1')\n",
    "    data = json.load(file)\n",
    "    return data\n",
    "    \n",
    "def extraer_info_serial(nombre_archivo):\n",
    "    pass\n",
    "\n",
    "\n"
   ]
  },
  {
   "cell_type": "code",
   "execution_count": 29,
   "metadata": {},
   "outputs": [
    {
     "data": {
      "text/plain": [
       "[{'fecha': '202402271910',\n",
       "  'equipo': 'Cobas 8000',\n",
       "  'modelo': 'RC8000',\n",
       "  'serial': 'RC2587SRL2020',\n",
       "  'responsable': 'Maria Antonieta de las Nieves',\n",
       "  'profesiÃ³n': 'BacteriÃ³loga',\n",
       "  'ips': 'ClÃ\\xadnica Siempre Viva',\n",
       "  'id': '1234567890',\n",
       "  'nombre': 'Pedro Pablo',\n",
       "  'apellido': 'PÃ©rez Perea',\n",
       "  'sexo': 'Masculino',\n",
       "  'edad': 23,\n",
       "  'examen': {'HDL': 70, 'LDL': 50, 'TRIG': 110},\n",
       "  'mÃ©dico': 'Dr. Jose Obdulio',\n",
       "  'especialidad': 'NutriciÃ³n',\n",
       "  'ingreso': 'Ambulatorio',\n",
       "  'dx': 'Esguince de rodilla',\n",
       "  'Comorbilidades': ['Diabete Tipo I', 'Hipertiroidismo']}]"
      ]
     },
     "execution_count": 29,
     "metadata": {},
     "output_type": "execute_result"
    }
   ],
   "source": [
    "\n",
    "\n",
    "# Obtener la lista de archivos en la carpeta\n",
    "archivos = os.listdir(ruta_carpeta)\n",
    "\n",
    "# Crear diccionarios para almacenar los archivos de cada tipo\n",
    "archivos_txt = []\n",
    "archivos_json = []\n",
    "archivos_csv = []\n",
    "\n",
    "# Clasificar los archivos por tipo\n",
    "for archivo in archivos:\n",
    "    nombre, extension = os.path.splitext(archivo)\n",
    "    if extension == '.txt':\n",
    "        archivos_txt.append(archivo)\n",
    "    elif extension == '.json':\n",
    "        archivos_json.append(archivo)\n",
    "    elif extension == '.csv':\n",
    "        archivos_csv.append(archivo)\n",
    "\n",
    "# Imprimir los archivos clasificados por tipo\n",
    "print(\"Archivos TXT:\")\n",
    "for archivo in archivos_txt:\n",
    "    print(archivo)\n",
    "\n",
    "print(\"\\nArchivos JSON:\")\n",
    "for archivo in archivos_json:\n",
    "    print(archivo)\n",
    "\n",
    "print(\"\\nArchivos CSV:\")\n",
    "for archivo in archivos_csv:\n",
    "    print(archivo)\n",
    "\n",
    "    "
   ]
  }
 ],
 "metadata": {
  "kernelspec": {
   "display_name": "base",
   "language": "python",
   "name": "python3"
  },
  "language_info": {
   "codemirror_mode": {
    "name": "ipython",
    "version": 3
   },
   "file_extension": ".py",
   "mimetype": "text/x-python",
   "name": "python",
   "nbconvert_exporter": "python",
   "pygments_lexer": "ipython3",
   "version": "3.11.4"
  }
 },
 "nbformat": 4,
 "nbformat_minor": 2
}
